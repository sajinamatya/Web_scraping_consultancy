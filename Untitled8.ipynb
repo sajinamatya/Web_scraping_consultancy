{
 "cells": [
  {
   "cell_type": "code",
   "execution_count": 5,
   "id": "22dd0838-3e1a-4d82-884e-a93527382f1e",
   "metadata": {},
   "outputs": [],
   "source": [
    "import pandas as pd \n",
    "from time import sleep\n",
    "import numpy as np\n",
    "from bs4 import BeautifulSoup\n",
    "import requests\n"
   ]
  },
  {
   "cell_type": "code",
   "execution_count": 6,
   "id": "6008c6ac-5f20-469f-9c1a-151e87a5e05b",
   "metadata": {},
   "outputs": [],
   "source": [
    "name = []\n",
    "address = []\n",
    "phone_number = [] \n",
    "email = []\n",
    "\n",
    "href = [] "
   ]
  },
  {
   "cell_type": "markdown",
   "id": "541ca6fc-fd6b-43fc-8617-1d9e776a63d1",
   "metadata": {},
   "source": [
    "\n",
    "# For UK consultancy "
   ]
  },
  {
   "cell_type": "code",
   "execution_count": 7,
   "id": "a72482e4-abc7-415b-926b-0228a2f4300e",
   "metadata": {},
   "outputs": [],
   "source": [
    "user_agent = \"Mozilla/5.0 (Windows NT 10.0; Win64; x64) AppleWebKit/537.36 (KHTML, like Gecko) Chrome/122.0.0.0 Safari/537.36\"\n",
    "url = \"https://www.consultancynepal.com/best-consultancy-for-uk-in-nepal\"\n",
    "get_request = requests.get(url)\n",
    "soup = BeautifulSoup(get_request.content, \"html.parser\")\n"
   ]
  },
  {
   "cell_type": "code",
   "execution_count": 8,
   "id": "f4ce13f6-65c9-4a41-8254-1aeba3be83a4",
   "metadata": {},
   "outputs": [],
   "source": [
    "heading = soup.find_all(\"h2\",class_=\"consultancy-title\")\n",
    "for each in heading:\n",
    "    name.append(each.text)\n",
    "    n = each.find('a')\n",
    "    hre = n['href']\n",
    "    href.append(hre)"
   ]
  },
  {
   "cell_type": "markdown",
   "id": "b99c630f-bbfb-4bb5-9432-2d0a8a70b453",
   "metadata": {},
   "source": [
    "### Text Cleaning "
   ]
  },
  {
   "cell_type": "code",
   "execution_count": 9,
   "id": "f8ed0b4f-afff-439b-a9e5-bd13e60aaa2d",
   "metadata": {},
   "outputs": [],
   "source": [
    "name = [ names.strip() for names in name]"
   ]
  },
  {
   "cell_type": "code",
   "execution_count": 10,
   "id": "bb3099d1-445a-4dc0-b7f3-c195bfe533d4",
   "metadata": {},
   "outputs": [
    {
     "name": "stdout",
     "output_type": "stream",
     "text": [
      "['AECC Nepal', 'Education Tree Global', 'Global Reach Nepal', 'Broadlink Education Consultancy', 'Himalayan White House Education Consultancy', 'Ed wise Foundation', 'Right path career counseling', 'Canadian Study Center', 'Nimble International Education', 'CIC Education Hub', 'Lincoln Educational Consultancy', 'Edupark Pvt Ltd', 'Munich International Education', 'Dolphin Education Consultancy Center', 'Nascent Education Foundation P. Ltd', 'WI Education Consultancy Pvt. Ltd', 'Top Solutions Nepal', 'Nepal Education Consultancy', 'Northface International Education Consultancy', 'Western Education Consultancy']\n"
     ]
    }
   ],
   "source": [
    "print(name)"
   ]
  },
  {
   "cell_type": "markdown",
   "id": "4fa60986-5a8d-4ff8-9622-f5e1621607f1",
   "metadata": {},
   "source": [
    "## Iterating through each page name "
   ]
  },
  {
   "cell_type": "code",
   "execution_count": 11,
   "id": "e77a1a4d-a778-43b1-941f-ba21716036f9",
   "metadata": {},
   "outputs": [
    {
     "name": "stdout",
     "output_type": "stream",
     "text": [
      "['https://www.consultancynepal.com/aecc-nepal', 'https://www.consultancynepal.com/Education-Tree-Global', 'https://www.consultancynepal.com/global-reach-education-consultancy', 'https://www.consultancynepal.com/broadlink-education-consultancy', 'https://www.consultancynepal.com/himalayan-white-house-education-consultancy', 'https://www.consultancynepal.com/ed-wise-foundation', 'https://www.consultancynepal.com/right-path-career-counseling', 'https://www.consultancynepal.com/Canadian-Study-Center', 'https://www.consultancynepal.com/Nimble-International-Education', 'https://www.consultancynepal.com/cic-education-hub', 'https://www.consultancynepal.com/Lincoln-Educational-Consultancy', 'https://www.consultancynepal.com/edupark-pvt-ltd', 'https://www.consultancynepal.com/munich-international-education', 'https://www.consultancynepal.com/Dolphin-Education-Consultancy-Center', 'https://www.consultancynepal.com/nascent-education-foundation-p-ltd', 'https://www.consultancynepal.com/wi-education-consultancy-pvt-ltd', 'https://www.consultancynepal.com/top-solutions-nepal', 'https://www.consultancynepal.com/nepal-education-consultancy', 'https://www.consultancynepal.com/northface-international-education-consultancy', 'https://www.consultancynepal.com/western-education-consultancy']\n",
      "20\n"
     ]
    }
   ],
   "source": [
    "print(href)\n",
    "print(len(href))"
   ]
  },
  {
   "cell_type": "code",
   "execution_count": 147,
   "id": "71359aee-60b3-41bf-90fa-2632896ebec9",
   "metadata": {},
   "outputs": [
    {
     "name": "stdout",
     "output_type": "stream",
     "text": [
      "\n",
      "                                                info.np@aeccglobal.com                                            \n",
      "\n",
      "                                                enquiry@educationtreeglobal.com                                            \n",
      "\n",
      "                                                ktmpromote@globalreachonline.com                                            \n",
      "\n",
      "                                                info@broadlinkconsultancy.edu.np                                            \n",
      "\n",
      "                                                info@hwhitehouse.edu.np                                            \n",
      "\n",
      "                                                info@edwisefoundation.com                                            \n",
      "\n",
      "                                                info@rightpath.com.np                                            \n",
      "\n",
      "                                                canadiansc@live.ca                                            \n",
      "\n",
      "                                                nimbleinternational2016@gmail.com                                            \n",
      "\n",
      "                                                ciceduhub@gmail.com                                            \n",
      "\n",
      "                                                info@lincolnec.edu.np                                            \n",
      "\n",
      "                                                infodesk@edupark.com.np                                            \n",
      "\n",
      "                                                info@munich.edu.np                                            \n",
      "\n",
      "                                                info@dolphineducation.com.np                                            \n",
      "\n",
      "                                                nefabroad@gmail.com                                            \n",
      "\n",
      "                                                info@wieducation.edu.np                                            \n",
      "\n",
      "                                                info@tsn.com.np                                            \n",
      "\n",
      "                                                info@nepalec.edu.np                                            \n",
      "\n",
      "                                                northface.edu@gmail.com                                            \n",
      "\n",
      "                                                info@wesnepal.com                                            \n"
     ]
    }
   ],
   "source": [
    "for each in href:\n",
    "    request = requests.get(each)\n",
    "    soup_href = BeautifulSoup(request.content, \"html.parser\")\n",
    "    li = soup_href.find(\"div\", class_='consultancy-details').find(\"ul\").find(\"li\")\n",
    "    # for each in div.find_all(\"li\"):\n",
    "    li2 = li.find_next_sibling('li')\n",
    "    li3 = li2.find_next_sibling('li')\n",
    "    address.append(li.text)\n",
    "    phone_number.append(li2.text)\n",
    "    email.append(li3.text)\n",
    "    print(li3.text)\n"
   ]
  },
  {
   "cell_type": "code",
   "execution_count": 152,
   "id": "1459f35e-0798-40bf-b6fe-497eda5596af",
   "metadata": {},
   "outputs": [
    {
     "name": "stdout",
     "output_type": "stream",
     "text": [
      "['info.np@aeccglobal.com', 'enquiry@educationtreeglobal.com', 'ktmpromote@globalreachonline.com', 'info@broadlinkconsultancy.edu.np', 'info@hwhitehouse.edu.np', 'info@edwisefoundation.com', 'info@rightpath.com.np', 'canadiansc@live.ca', 'nimbleinternational2016@gmail.com', 'ciceduhub@gmail.com', 'info@lincolnec.edu.np', 'infodesk@edupark.com.np', 'info@munich.edu.np', 'info@dolphineducation.com.np', 'nefabroad@gmail.com', 'info@wieducation.edu.np', 'info@tsn.com.np', 'info@nepalec.edu.np', 'northface.edu@gmail.com', 'info@wesnepal.com']\n"
     ]
    }
   ],
   "source": [
    "\n",
    "address = [ add.strip() for add in address]\n",
    "phone_number = [ add.strip() for add in phone_number]\n",
    "email = [ add.strip() for add in email]\n"
   ]
  },
  {
   "cell_type": "code",
   "execution_count": 146,
   "id": "32edb655-1ea4-463a-bbbd-3ced80395c71",
   "metadata": {},
   "outputs": [],
   "source": [
    "address.clear()\n",
    "phone_number.clear()\n",
    "email.clear()"
   ]
  },
  {
   "cell_type": "code",
   "execution_count": 153,
   "id": "3450d459-f5a7-42f8-a7f9-fd65efb2eb22",
   "metadata": {},
   "outputs": [],
   "source": [
    "dict = {'name':name, 'address':address,'phone number' : phone_number,'email' : email}"
   ]
  },
  {
   "cell_type": "code",
   "execution_count": 154,
   "id": "b6920ef5-fa8e-443a-9a63-d8247453347a",
   "metadata": {},
   "outputs": [
    {
     "name": "stdout",
     "output_type": "stream",
     "text": [
      "{'name': ['AECC Nepal', 'Education Tree Global', 'Global Reach Nepal', 'Broadlink Education Consultancy', 'Himalayan White House Education Consultancy', 'Ed wise Foundation', 'Right path career counseling', 'Canadian Study Center', 'Nimble International Education', 'CIC Education Hub', 'Lincoln Educational Consultancy', 'Edupark Pvt Ltd', 'Munich International Education', 'Dolphin Education Consultancy Center', 'Nascent Education Foundation P. Ltd', 'WI Education Consultancy Pvt. Ltd', 'Top Solutions Nepal', 'Nepal Education Consultancy', 'Northface International Education Consultancy', 'Western Education Consultancy'], 'address': ['Kamal Pokhari Marg, Charkhal Dillibazar-33', 'Kamalpokhari, Kathmandu, Nepal', 'Punya Mansion, 2nd & 3rd Floor, Next to Batule Ghar, Dilli Bazaar Rd, Kathmandu', 'Putalisadak', 'Putalisadak Opposite Shankar Dev Campus', 'Subhashree Complex New Plaza Kathmandu', 'Putalisadak Kathmandu', 'Bagbazar', 'Mahendrachowk Biratnagar', 'putalasadak,kathmandu', 'Putalisadak Kathmandu', 'bagbazar,kathmandu', 'bagbazar, kathmandu', 'Pradarshani Marg Putalisadak', 'Ghantaghar Linkroad, Birgunj', 'Putalisadak 29 Kathmandu', 'Level2, purnima Hall, New Road Pokhara', 'Maha Ananga Niwas, Putalisadak, Opposite of Century Bank', 'New Baneshwor, Kathmandu', 'Dillibazar road  Kathmandu'], 'phone number': ['+977-01-5903404', '+977-01-5911945', '+977-01-4544081', '+977-01-4246070', '+977-01-4168309', '+977-4538834', '+977-01 4417418', '+977-01-5368547', '9802730918, 9843505714', '+977-01-5332841', '+977-014010580', '+977-+977 1 4246693', '+977-+977-9862596327', '+977-01-4254282', '+977-051-527522', '+977-01-4534282', '+977-61 582912', '+977-01-5910770', '+977-01-4462553', '+977-01-4528831'], 'email': ['info.np@aeccglobal.com', 'enquiry@educationtreeglobal.com', 'ktmpromote@globalreachonline.com', 'info@broadlinkconsultancy.edu.np', 'info@hwhitehouse.edu.np', 'info@edwisefoundation.com', 'info@rightpath.com.np', 'canadiansc@live.ca', 'nimbleinternational2016@gmail.com', 'ciceduhub@gmail.com', 'info@lincolnec.edu.np', 'infodesk@edupark.com.np', 'info@munich.edu.np', 'info@dolphineducation.com.np', 'nefabroad@gmail.com', 'info@wieducation.edu.np', 'info@tsn.com.np', 'info@nepalec.edu.np', 'northface.edu@gmail.com', 'info@wesnepal.com']}\n"
     ]
    }
   ],
   "source": [
    "print(dict)"
   ]
  },
  {
   "cell_type": "code",
   "execution_count": 158,
   "id": "b8b6dece-7596-4b95-b1b6-9505575411d9",
   "metadata": {},
   "outputs": [],
   "source": [
    "data = pd.DataFrame(dict)\n",
    "data.to_excel('uk.xlsx')"
   ]
  },
  {
   "cell_type": "code",
   "execution_count": 156,
   "id": "2e975c4b-ece2-4597-98ec-217523be56db",
   "metadata": {},
   "outputs": [
    {
     "name": "stdout",
     "output_type": "stream",
     "text": [
      "                                             name  \\\n",
      "0                                      AECC Nepal   \n",
      "1                           Education Tree Global   \n",
      "2                              Global Reach Nepal   \n",
      "3                 Broadlink Education Consultancy   \n",
      "4     Himalayan White House Education Consultancy   \n",
      "5                              Ed wise Foundation   \n",
      "6                    Right path career counseling   \n",
      "7                           Canadian Study Center   \n",
      "8                  Nimble International Education   \n",
      "9                               CIC Education Hub   \n",
      "10                Lincoln Educational Consultancy   \n",
      "11                                Edupark Pvt Ltd   \n",
      "12                 Munich International Education   \n",
      "13           Dolphin Education Consultancy Center   \n",
      "14            Nascent Education Foundation P. Ltd   \n",
      "15              WI Education Consultancy Pvt. Ltd   \n",
      "16                            Top Solutions Nepal   \n",
      "17                    Nepal Education Consultancy   \n",
      "18  Northface International Education Consultancy   \n",
      "19                  Western Education Consultancy   \n",
      "\n",
      "                                              address            phone number  \\\n",
      "0          Kamal Pokhari Marg, Charkhal Dillibazar-33         +977-01-5903404   \n",
      "1                      Kamalpokhari, Kathmandu, Nepal         +977-01-5911945   \n",
      "2   Punya Mansion, 2nd & 3rd Floor, Next to Batule...         +977-01-4544081   \n",
      "3                                         Putalisadak         +977-01-4246070   \n",
      "4             Putalisadak Opposite Shankar Dev Campus         +977-01-4168309   \n",
      "5              Subhashree Complex New Plaza Kathmandu            +977-4538834   \n",
      "6                               Putalisadak Kathmandu         +977-01 4417418   \n",
      "7                                            Bagbazar         +977-01-5368547   \n",
      "8                            Mahendrachowk Biratnagar  9802730918, 9843505714   \n",
      "9                               putalasadak,kathmandu         +977-01-5332841   \n",
      "10                              Putalisadak Kathmandu          +977-014010580   \n",
      "11                                 bagbazar,kathmandu     +977-+977 1 4246693   \n",
      "12                                bagbazar, kathmandu    +977-+977-9862596327   \n",
      "13                       Pradarshani Marg Putalisadak         +977-01-4254282   \n",
      "14                       Ghantaghar Linkroad, Birgunj         +977-051-527522   \n",
      "15                           Putalisadak 29 Kathmandu         +977-01-4534282   \n",
      "16             Level2, purnima Hall, New Road Pokhara          +977-61 582912   \n",
      "17  Maha Ananga Niwas, Putalisadak, Opposite of Ce...         +977-01-5910770   \n",
      "18                           New Baneshwor, Kathmandu         +977-01-4462553   \n",
      "19                         Dillibazar road  Kathmandu         +977-01-4528831   \n",
      "\n",
      "                                email  \n",
      "0              info.np@aeccglobal.com  \n",
      "1     enquiry@educationtreeglobal.com  \n",
      "2    ktmpromote@globalreachonline.com  \n",
      "3    info@broadlinkconsultancy.edu.np  \n",
      "4             info@hwhitehouse.edu.np  \n",
      "5           info@edwisefoundation.com  \n",
      "6               info@rightpath.com.np  \n",
      "7                  canadiansc@live.ca  \n",
      "8   nimbleinternational2016@gmail.com  \n",
      "9                 ciceduhub@gmail.com  \n",
      "10              info@lincolnec.edu.np  \n",
      "11            infodesk@edupark.com.np  \n",
      "12                 info@munich.edu.np  \n",
      "13       info@dolphineducation.com.np  \n",
      "14                nefabroad@gmail.com  \n",
      "15            info@wieducation.edu.np  \n",
      "16                    info@tsn.com.np  \n",
      "17                info@nepalec.edu.np  \n",
      "18            northface.edu@gmail.com  \n",
      "19                  info@wesnepal.com  \n"
     ]
    }
   ],
   "source": [
    "print(data)"
   ]
  },
  {
   "cell_type": "code",
   "execution_count": null,
   "id": "5ed22790-053c-4484-b210-b01290582131",
   "metadata": {},
   "outputs": [],
   "source": []
  }
 ],
 "metadata": {
  "kernelspec": {
   "display_name": "Python 3 (ipykernel)",
   "language": "python",
   "name": "python3"
  },
  "language_info": {
   "codemirror_mode": {
    "name": "ipython",
    "version": 3
   },
   "file_extension": ".py",
   "mimetype": "text/x-python",
   "name": "python",
   "nbconvert_exporter": "python",
   "pygments_lexer": "ipython3",
   "version": "3.9.13"
  }
 },
 "nbformat": 4,
 "nbformat_minor": 5
}
